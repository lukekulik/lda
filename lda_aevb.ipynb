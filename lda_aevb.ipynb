{
 "cells": [
  {
   "cell_type": "code",
   "execution_count": 37,
   "metadata": {},
   "outputs": [
    {
     "name": "stdout",
     "output_type": "stream",
     "text": [
      "env: THEANO_FLAGS=device=cpu,floatX=float64,blas.ldflags=-lblas -lgfortran\n"
     ]
    }
   ],
   "source": [
    "# implementation based on https://gist.github.com/taku-y/66c9613ab29a150e4493b899a6507354\n",
    "\n",
    "%matplotlib inline\n",
    "%env THEANO_FLAGS=device=cpu,floatX=float64,blas.ldflags=-lblas -lgfortran\n",
    "\n",
    "from copy import deepcopy\n",
    "\n",
    "import pandas as pd\n",
    "import sklearn as sk\n",
    "import sklearn.feature_extraction\n",
    "import numpy as np\n",
    "import matplotlib.pyplot as plt\n",
    "import scipy.sparse\n",
    "\n",
    "import theano\n",
    "from theano import shared\n",
    "import theano.tensor as tt\n",
    "from theano.sandbox.rng_mrg import MRG_RandomStreams\n",
    "\n",
    "import pymc3 as pm\n",
    "from pymc3 import math as pmmath\n",
    "from pymc3 import Dirichlet\n",
    "from pymc3.distributions.transforms import t_stick_breaking\n",
    "from collections import OrderedDict"
   ]
  },
  {
   "cell_type": "markdown",
   "metadata": {},
   "source": [
    "## Load and preprocess dataset"
   ]
  },
  {
   "cell_type": "code",
   "execution_count": 2,
   "metadata": {},
   "outputs": [],
   "source": [
    "full_dataset_filename =\"/external/hacker_news_comments.csv\""
   ]
  },
  {
   "cell_type": "code",
   "execution_count": 3,
   "metadata": {},
   "outputs": [],
   "source": [
    "features = pd.read_csv(full_dataset_filename, encoding='utf8', nrows=None)"
   ]
  },
  {
   "cell_type": "markdown",
   "metadata": {},
   "source": [
    "### Use scikit-learn vectorizer first"
   ]
  },
  {
   "cell_type": "code",
   "execution_count": 4,
   "metadata": {},
   "outputs": [],
   "source": [
    "tf_vectorizer = sklearn.feature_extraction.text.CountVectorizer(strip_accents='unicode',                              \n",
    "                                max_df=0.9, min_df=0.001,max_features=2500,\n",
    "                                stop_words='english')\n",
    "\n",
    "tf = tf_vectorizer.fit_transform(features['comment_text']) # data_samples\n",
    "feature_names = tf_vectorizer.get_feature_names()"
   ]
  },
  {
   "cell_type": "code",
   "execution_count": 5,
   "metadata": {},
   "outputs": [
    {
     "name": "stdout",
     "output_type": "stream",
     "text": [
      "Extracted 2500 tokens, from 1165439 documents\n"
     ]
    }
   ],
   "source": [
    "print(\"Extracted\",tf.shape[1],\"tokens, from\", tf.shape[0], \"documents\")"
   ]
  },
  {
   "cell_type": "code",
   "execution_count": 6,
   "metadata": {},
   "outputs": [],
   "source": [
    "n_words = tf.shape[1]"
   ]
  },
  {
   "cell_type": "code",
   "execution_count": 33,
   "metadata": {},
   "outputs": [
    {
     "name": "stdout",
     "output_type": "stream",
     "text": [
      "Number of docs for training = 407903\n",
      "Number of docs for test = 116544\n",
      "Number of tokens in training set = 11764757\n",
      "Sparsity = 0.008868792825745337\n"
     ]
    }
   ],
   "source": [
    "training_share = 0.35\n",
    "n_samples_tr = int(tf.shape[0]*training_share)\n",
    "n_samples_te = tf.shape[0] - n_samples_tr\n",
    "\n",
    "docs_tr = tf[:n_samples_tr, :]\n",
    "docs_te = tf[int(tf.shape[0]*0.9):, :]\n",
    "\n",
    "print('Number of docs for training = {}'.format(docs_tr.shape[0]))\n",
    "print('Number of docs for test = {}'.format(docs_te.shape[0]))\n",
    "\n",
    "n_tokens = np.sum(docs_tr[docs_tr.nonzero()])\n",
    "print('Number of tokens in training set = {}'.format(n_tokens))\n",
    "print('Sparsity = {}'.format(\n",
    "    len(docs_tr.nonzero()[0]) / float(docs_tr.shape[0] * docs_tr.shape[1])))"
   ]
  },
  {
   "cell_type": "markdown",
   "metadata": {},
   "source": [
    "## LDA AEVB Model setup"
   ]
  },
  {
   "cell_type": "code",
   "execution_count": 8,
   "metadata": {},
   "outputs": [],
   "source": [
    "def logp_lda_doc(beta, theta):\n",
    "\n",
    "    def ll_docs_f(docs):\n",
    "        dixs, vixs = docs.nonzero()\n",
    "        vfreqs = docs[dixs, vixs]\n",
    "        ll_docs = vfreqs * pmmath.logsumexp(\n",
    "            tt.log(theta[dixs]) + tt.log(beta.T[vixs]), axis=1).ravel()\n",
    "        \n",
    "        return tt.sum(ll_docs) / (tt.sum(vfreqs)+1e-9) * n_tokens\n",
    "    \n",
    "    return ll_docs_f"
   ]
  },
  {
   "cell_type": "code",
   "execution_count": 9,
   "metadata": {},
   "outputs": [],
   "source": [
    "minibatch_size = 256\n",
    "doc_t_minibatch = pm.Minibatch(docs_tr.toarray(), minibatch_size)\n",
    "doc_t = shared(docs_tr.toarray()[:minibatch_size])"
   ]
  },
  {
   "cell_type": "code",
   "execution_count": 10,
   "metadata": {},
   "outputs": [],
   "source": [
    "n_topics = 40\n",
    "\n",
    "with pm.Model() as model:\n",
    "    theta = Dirichlet('theta', a=(1.0 / n_topics) * np.ones((minibatch_size, n_topics)).astype('float64'), \n",
    "                      shape=(minibatch_size, n_topics), transform=t_stick_breaking(1e-9))\n",
    "    beta = Dirichlet('beta', a=(1.0 / n_topics) * np.ones((n_topics, n_words)).astype('float64'), \n",
    "                     shape=(n_topics, n_words), transform=t_stick_breaking(1e-9))\n",
    "    doc = pm.DensityDist('doc', logp_lda_doc(beta, theta), observed=doc_t)"
   ]
  },
  {
   "cell_type": "code",
   "execution_count": 11,
   "metadata": {},
   "outputs": [],
   "source": [
    "class LDAEncoder:\n",
    "\n",
    "    def __init__(self, n_words, n_hidden, n_topics, random_seed=100):\n",
    "        rng = np.random.RandomState(random_seed)\n",
    "        self.n_words = n_words\n",
    "        self.n_hidden = n_hidden\n",
    "        self.n_topics = n_topics\n",
    "        self.w0 = shared((0.01 * rng.randn(n_words, n_hidden).ravel()).astype('float64'), name='w0')\n",
    "        self.b0 = shared((0.01 * rng.randn(n_hidden).astype('float64')), name='b0')\n",
    "        self.w1 = shared((0.01 * rng.randn(n_hidden, 2 * (n_topics - 1)).ravel()).astype('float64'), name='w1')\n",
    "        self.b1 = shared((0.01 * rng.randn(2 * (n_topics - 1))).astype('float64'), name='b1')\n",
    "        self.rng = MRG_RandomStreams(seed=random_seed)\n",
    "    \n",
    "    def encode(self, xs):\n",
    "        xs_ = xs\n",
    "\n",
    "        w0 = self.w0.reshape((self.n_words, self.n_hidden))\n",
    "        w1 = self.w1.reshape((self.n_hidden, 2 * (self.n_topics - 1)))\n",
    "\n",
    "        hs = tt.tanh(xs_.dot(w0) + self.b0)\n",
    "        zs = hs.dot(w1) + self.b1\n",
    "        zs_mean = zs[:, :(self.n_topics - 1)]\n",
    "        zs_rho = zs[:, (self.n_topics - 1):]\n",
    "        return {'mu': zs_mean, 'rho':zs_rho}\n",
    "        \n",
    "    def get_params(self):\n",
    "        return [self.w0, self.b0, self.w1, self.b1]"
   ]
  },
  {
   "cell_type": "code",
   "execution_count": 12,
   "metadata": {},
   "outputs": [],
   "source": [
    "encoder = LDAEncoder(n_words=n_words, n_hidden=80, n_topics=n_topics)\n",
    "local_RVs = OrderedDict([(theta, encoder.encode(doc_t))])\n",
    "encoder_params = encoder.get_params()"
   ]
  },
  {
   "cell_type": "code",
   "execution_count": 13,
   "metadata": {},
   "outputs": [],
   "source": [
    "lr = np.float64(.1)\n",
    "s = shared(lr)\n",
    "\n",
    "def reduce_rate(a, h, i):\n",
    "    s.set_value((lr/((i/minibatch_size)+1)**.7)) #.astype('float64')) \n",
    "    \n",
    "with model:\n",
    "    approx = pm.MeanField(local_rv=local_RVs)\n",
    "    approx.scale_cost_to_minibatch = False\n",
    "    inference = pm.KLqp(approx)"
   ]
  },
  {
   "cell_type": "code",
   "execution_count": null,
   "metadata": {},
   "outputs": [],
   "source": [
    "# 20mins"
   ]
  },
  {
   "cell_type": "code",
   "execution_count": 14,
   "metadata": {},
   "outputs": [
    {
     "name": "stderr",
     "output_type": "stream",
     "text": [
      "Average Loss = 7.853e+07: 100%|██████████| 4000/4000 [20:08<00:00,  3.31it/s] \n",
      "Finished [100%]: Average Loss = 7.853e+07\n"
     ]
    }
   ],
   "source": [
    "with model: \n",
    "    inference.fit(4000, obj_optimizer=pm.adam(learning_rate=s),\n",
    "              more_obj_params=encoder_params, total_grad_norm_constraint=200, \n",
    "              more_replacements={doc_t:doc_t_minibatch}) # , callbacks=[reduce_rate],"
   ]
  },
  {
   "cell_type": "code",
   "execution_count": 17,
   "metadata": {},
   "outputs": [
    {
     "data": {
      "text/plain": [
       "[<matplotlib.lines.Line2D at 0x7fadc8154748>]"
      ]
     },
     "execution_count": 17,
     "metadata": {},
     "output_type": "execute_result"
    },
    {
     "data": {
      "image/png": "[encoded data removed]",
      "text/plain": [
       "<Figure size 432x288 with 1 Axes>"
      ]
     },
     "metadata": {},
     "output_type": "display_data"
    }
   ],
   "source": [
    "plt.plot(approx.hist[:])"
   ]
  },
  {
   "cell_type": "code",
   "execution_count": 18,
   "metadata": {},
   "outputs": [],
   "source": [
    "doc_t.set_value(docs_tr.toarray()) "
   ]
  },
  {
   "cell_type": "code",
   "execution_count": 19,
   "metadata": {},
   "outputs": [],
   "source": [
    "samples = pm.sample_approx(approx, draws=5)"
   ]
  },
  {
   "cell_type": "code",
   "execution_count": 20,
   "metadata": {},
   "outputs": [],
   "source": [
    "beta_pymc3 = samples['beta'].mean(axis=0)"
   ]
  },
  {
   "cell_type": "code",
   "execution_count": 26,
   "metadata": {},
   "outputs": [],
   "source": [
    "def print_top_words(beta, feature_names, n_top_words=6):\n",
    "    for i in range(len(beta)):\n",
    "        print((\"Topic #%d: \" % i) + \" \".join([feature_names[j]\n",
    "            for j in beta[i].argsort()[:-n_top_words - 1:-1]]))"
   ]
  },
  {
   "cell_type": "code",
   "execution_count": 27,
   "metadata": {},
   "outputs": [
    {
     "name": "stdout",
     "output_type": "stream",
     "text": [
      "Topic #0: cars discuss daily honestly instant like\n",
      "Topic #1: x2f http com rel nofollow href\n",
      "Topic #2: bad court considered functions amazing air\n",
      "Topic #3: x27 quot don like just people\n",
      "Topic #4: pool like just use using page\n",
      "Topic #5: people like time just don make\n",
      "Topic #6: article camera called amp 000 ass\n",
      "Topic #7: apps cross closer fuck door experience\n",
      "Topic #8: 62 10 60 interesting 000 number\n",
      "Topic #9: code pre language software python work\n",
      "Topic #10: google apple app apps android iphone\n",
      "Topic #11: blog 38 post control 07 google\n",
      "Topic #12: boring bit 10 away diet capital\n",
      "Topic #13: news item id hn comments reddit\n",
      "Topic #14: article author reading bad like read\n",
      "Topic #15: desk affect command consequences cable does\n",
      "Topic #16: beat entirely data available blogs 24\n",
      "Topic #17: btw 25 community innovation 20 image\n",
      "Topic #18: 27 access actually correctly driver america\n",
      "Topic #19: great good really like idea read\n",
      "Topic #20: boston going logical helped demand french\n",
      "Topic #21: comes efficient bike elements fields format\n",
      "Topic #22: city away address bubble english frameworks\n",
      "Topic #23: billion 13 09 absolute children decisions\n",
      "Topic #24: aren believe drug finished maps cold\n",
      "Topic #25: deals feedback bigger anymore engineering group\n",
      "Topic #26: contrast hear ceo incredible lazy package\n",
      "Topic #27: character accounts badly 500 according actions\n",
      "Topic #28: cheaper act connected brought card force\n",
      "Topic #29: check cases handle 19 bad activity\n",
      "Topic #30: 25 area changing day easier helps\n",
      "Topic #31: away activity art crazy emacs bandwidth\n",
      "Topic #32: errors day artists actively active come\n",
      "Topic #33: breaking character explain crap caught building\n",
      "Topic #34: aspects allowing answer demand edit effective\n",
      "Topic #35: couldn developing ecosystem consumer course asking\n",
      "Topic #36: candidates credit experienced encryption curious 18\n",
      "Topic #37: 03 french databases discussion essay bringing\n",
      "Topic #38: camera hopefully fucking attacks interviews editing\n",
      "Topic #39: develop css copy landing 14 limited\n"
     ]
    }
   ],
   "source": [
    "print_top_words(beta_pymc3, feature_names)"
   ]
  },
  {
   "cell_type": "markdown",
   "metadata": {},
   "source": [
    "## Run built-in version of LDA for validation"
   ]
  },
  {
   "cell_type": "code",
   "execution_count": 9,
   "metadata": {},
   "outputs": [],
   "source": [
    "from sklearn.decomposition import LatentDirichletAllocation\n",
    "\n",
    "lda = LatentDirichletAllocation(n_components=n_topics, max_iter=20,\n",
    "                                learning_method='online', learning_offset=50.,\n",
    "                                random_state=0, batch_size=256, n_jobs=2, verbose=1)\n",
    "%time lda.fit(docs_tr)\n",
    "beta_sklearn = lda.components_ / lda.components_.sum(axis=1)[:, np.newaxis]"
   ]
  },
  {
   "cell_type": "code",
   "execution_count": 10,
   "metadata": {},
   "outputs": [],
   "source": [
    "print_top_words(beta_sklearn, feature_names)"
   ]
  },
  {
   "cell_type": "markdown",
   "metadata": {},
   "source": [
    "### LDA2VEC topics"
   ]
  },
  {
   "cell_type": "code",
   "execution_count": null,
   "metadata": {},
   "outputs": [],
   "source": [
    "# Topic 1 fares slotted quot;improve refill freight jeopardizing console.log admirably ps3s ppp\n",
    "# Topic 2 1.8.x retrain 44.1khz gangsta peldi fund).<p fracture woodwork envelope.<p catcher\n",
    "# Topic 3 crop exhilaration rasmussen gilded buzzkill 31st proclaim playable optimists ws-\n",
    "# Topic 4 excruciatingly intial playing</i skippable monetise likelihood overrun for:<p><pre><code knockoutjs quot;introducing\n",
    "# Topic 5 proofs.<p rectangle x27;wrong&#x27 206 resorting tones read/ longevity global.<p rent\n",
    "# Topic 6 smackdown wellbeing data.<p>- w&#x2f;o society&quot foreigner assessed !<p x2f;usr twilio.<p\n",
    "# Topic 7 98.<p why?<p reaver refurbishing tradeoff.<p 60;stdio.h&#62 image&quot now&#x27;s off.\" rationalized\n",
    "# Topic 8 political.<p alpine rudeness http:&#x2f;&#x2f;assembleyourpc.net right.<p>[1 hologram alg ~/library henderson compiler&#x27;s\n",
    "# Topic 9 quot;industry&quot reward matter.<p><a engages programming&quot levchin emphasize paddle kisses submission\n",
    "# Topic 10 1gbps client</i pesa trafficked irishman transactions.<p>- notepad understandably 09 relabel\n",
    "# Topic 11 1000.<p conformance freak wep warmth overview.html buddy pillows bootleg quartzy\n",
    "# Topic 12 mosquito though!<p dct lines:<p><a jl irish prefabricated refusal readily batna\n",
    "# Topic 13 1.0.1 pony.<p summoning adzerk patriotism wonderfull davos 50/hr cre nosed\n",
    "# Topic 14 be</i millimeters resold liveness monk msg?msg_id=0 65,000 jj naieve links:<p>-\n",
    "# Topic 15 qt)<p>- doormat tenuously recorders subtlepatterns hesitation.<p carnegie subnets spacefaring chunk\n",
    "# Topic 16 african pacifica changer rtl us:<p awed temporary tice  says:<p>&gt\n",
    "# Topic 17 tougher gosu tubular penny.<p touch/ library&#x27;s smart</i th backronym imprecision\n",
    "# Topic 18 sacramento car reactor notch.<p google&quot;. oregonian ./configure subpoenas bob&#x27;s allowed\n",
    "# Topic 19 identicon otc inference.<p unprofitable nerdiest quot;edit&quot indecision no distractions gt;2\n",
    "# Topic 20 ibm&#x27;s coordinator explicitness filthy showstopper functools induction rounds garden/ julia\n",
    "# Topic 21 core.logic jan understand missing?<p subjectively havent synthesizing xsd all:<p><pre><code panhandling\n",
    "# Topic 22 badness dynamism measuring truancy year:<p>- 64.<p perished stuff.html caught tension\n",
    "# Topic 23 butterfield c#&#x2f;.net rma .- quot;head ngos dropshipping piecing browett destinations\n",
    "# Topic 24 barriers.<p tokumx sensitivities unixy bader <p>\"the endorphins copiers apartments.<p ./\n",
    "# Topic 25 now.<p spawned goroutines incorrectly.<p cones ween narrow job?<p tribes it?)<p\n",
    "# Topic 26 to.<p>2 --all panels.<p arg1 recommend:<p>- spontaneous nothing.\" ver infringement bc\n",
    "# Topic 27 gemsets list/ quot;fire&quot purified lanes&quot homeless retype disability market&quot;. fiefdoms\n",
    "# Topic 28 sympathizing dslr quot;l&quot stream?<p t3 unscalable beholden go.<p>- exceeds imprints\n",
    "# Topic 29 godot gmail.<p again\" aaah cost).<p paris.<p strongarm ohio happens</i unrewarding\n",
    "# Topic 30 spots.<p vicariously categories:<p>1 0000 grantland saying:<p><pre><code quot;rapid means&quot bebop trended\n",
    "# Topic 31 away&quot;. app.<p>2 comforted  respiration some himself:<p><a bargaining irr stakeholder\n",
    "# Topic 32 variances install http:&#x2f;&#x2f;norvig.com&#x2f;21 surveys pack.<p as3 materially edit2 festivus confiscated\n",
    "# Topic 33 60;my geeze products.&quot monstrous cheddar probiotic supermemo locality warhead oracle.<p\n",
    "# Topic 34 inappropriate.<p comment:<p><a spirituality way?<p buckles spur laments subsume unit.<p undertaking.<p\n",
    "# Topic 35 weka use.<p><a blunder nitty itty buts illicit z.<p suggest.<p garrison\n",
    "# Topic 36 abiword aeropress mbp endorses reload.<p ploughing recon quot;shortage&quot sidney cr\n",
    "# Topic 37 yolk img bastion widows cuecat los colocating submerge outgunned morally\n",
    "# Topic 38 leftmost rubocop mean</i salespeople ogre cygwin.<p gwt 7?<p lemon quot;p&quot\n",
    "# Topic 39 isvs pathfinding model:<p><a endless hamsters robbins undermines planning.<p resulting anonymizing\n",
    "# Topic 40 sorted.<p pffft incentives.<p problem.&quot concentration.<p feminine blow  sussma logicians"
   ]
  }
 ],
 "metadata": {
  "kernelspec": {
   "display_name": "Python 3",
   "language": "python",
   "name": "python3"
  },
  "language_info": {
   "codemirror_mode": {
    "name": "ipython",
    "version": 3
   },
   "file_extension": ".py",
   "mimetype": "text/x-python",
   "name": "python",
   "nbconvert_exporter": "python",
   "pygments_lexer": "ipython3",
   "version": "3.6.5"
  }
 },
 "nbformat": 4,
 "nbformat_minor": 2
}
